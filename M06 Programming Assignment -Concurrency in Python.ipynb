{
 "cells": [
  {
   "cell_type": "code",
   "execution_count": 3,
   "id": "b98ad008-52c6-437c-9705-499535118c3e",
   "metadata": {},
   "outputs": [],
   "source": [
    "#13.1\n",
    "from datetime import date\n",
    "today_date = date.today().isoformat()\n",
    "with open('today.txt', 'w') as file:\n",
    "    file.write(today_date)\n"
   ]
  },
  {
   "cell_type": "code",
   "execution_count": 5,
   "id": "8c75246e-4fe1-42fe-bc0d-8573166bd81d",
   "metadata": {},
   "outputs": [],
   "source": [
    "#13.2\n",
    "with open('today.txt', 'r') as file:\n",
    "    today_string = file.read()"
   ]
  },
  {
   "cell_type": "code",
   "execution_count": 7,
   "id": "a78f03c3-62e1-45c9-ab27-cd18d6cb3103",
   "metadata": {},
   "outputs": [
    {
     "name": "stdout",
     "output_type": "stream",
     "text": [
      "Year: 2023, Month: 10, Day: 16\n"
     ]
    }
   ],
   "source": [
    "#13.3 \n",
    "from datetime import datetime\n",
    "\n",
    "parsed_date = datetime.strptime(today_string, \"%Y-%m-%d\")\n",
    "year = parsed_date.year\n",
    "month = parsed_date.month\n",
    "day = parsed_date.day\n",
    "\n",
    "print(f\"Year: {year}, Month: {month}, Day: {day}\")"
   ]
  },
  {
   "cell_type": "code",
   "execution_count": 9,
   "id": "30c9c8a0-4f5f-477a-a2c1-303750306663",
   "metadata": {},
   "outputs": [],
   "source": [
    "#15.1\n",
    "import concurrent.futures\n",
    "import time\n",
    "import random\n",
    "from datetime import datetime\n",
    "\n",
    "def print_current_time():\n",
    "    sleep_duration = random.random()\n",
    "    time.sleep(sleep_duration)\n",
    "    current_time = datetime.now().strftime(\"%H:%M:%S\")\n",
    "    print(f\"Current Time: {current_time}, Thread: {threading.current_thread().name}\")\n",
    "\n",
    "if __name__ == \"__main__\":\n",
    "    with concurrent.futures.ThreadPoolExecutor(max_workers=3) as executor:\n",
    "        futures = [executor.submit(print_current_time) for _ in range(3)]\n",
    "        concurrent.futures.wait(futures)\n",
    "        \n"
   ]
  },
  {
   "cell_type": "code",
   "execution_count": null,
   "id": "c08aea02-c896-4f52-8843-941f475bcc49",
   "metadata": {},
   "outputs": [],
   "source": []
  }
 ],
 "metadata": {
  "kernelspec": {
   "display_name": "anaconda-2022.05-py39",
   "language": "python",
   "name": "conda-env-anaconda-2022.05-py39-py"
  },
  "language_info": {
   "codemirror_mode": {
    "name": "ipython",
    "version": 3
   },
   "file_extension": ".py",
   "mimetype": "text/x-python",
   "name": "python",
   "nbconvert_exporter": "python",
   "pygments_lexer": "ipython3",
   "version": "3.9.12"
  }
 },
 "nbformat": 4,
 "nbformat_minor": 5
}
